{
  "nbformat": 4,
  "nbformat_minor": 0,
  "metadata": {
    "colab": {
      "name": "Section2_AI_12_이우림.ipynb",
      "provenance": [],
      "authorship_tag": "ABX9TyOQ3OhTxJoW79f/Q3IL1rb1"
    },
    "kernelspec": {
      "name": "python3",
      "display_name": "Python 3"
    },
    "language_info": {
      "name": "python"
    }
  },
  "cells": [
    {
      "cell_type": "markdown",
      "source": [
        "# 1. 데이터(PUBG Finish Placement Prediction)\n",
        "*   출처: https://www.kaggle.com/c/pubg-finish-placement-prediction/data"
      ],
      "metadata": {
        "id": "NKGjoEfIDDdW"
      }
    },
    {
      "cell_type": "markdown",
      "source": [
        "## 1-1. 데이터 불러오기"
      ],
      "metadata": {
        "id": "YWtRKYezI9qt"
      }
    },
    {
      "cell_type": "code",
      "execution_count": 81,
      "metadata": {
        "id": "ZD974egZBdPy",
        "outputId": "f8a7ecef-5694-4845-844e-836ae0fe511e",
        "colab": {
          "base_uri": "https://localhost:8080/"
        }
      },
      "outputs": [
        {
          "output_type": "stream",
          "name": "stdout",
          "text": [
            "Drive already mounted at /content/drive; to attempt to forcibly remount, call drive.mount(\"/content/drive\", force_remount=True).\n"
          ]
        }
      ],
      "source": [
        "from google.colab import drive\n",
        "import pandas as pd\n",
        "drive.mount('/content/drive')\n",
        "\n",
        "url = '/content/drive/MyDrive/codestates/p2/train_V2.csv'\n",
        "df = pd.read_csv(url)"
      ]
    },
    {
      "cell_type": "code",
      "source": [
        "df.head()"
      ],
      "metadata": {
        "id": "QnKbjUo6DQy8",
        "outputId": "6728232a-000f-4eca-d09e-1f77623e07fc",
        "colab": {
          "base_uri": "https://localhost:8080/",
          "height": 299
        }
      },
      "execution_count": 82,
      "outputs": [
        {
          "output_type": "execute_result",
          "data": {
            "text/plain": [
              "               Id         groupId         matchId  assists  boosts  \\\n",
              "0  7f96b2f878858a  4d4b580de459be  a10357fd1a4a91        0       0   \n",
              "1  eef90569b9d03c  684d5656442f9e  aeb375fc57110c        0       0   \n",
              "2  1eaf90ac73de72  6a4a42c3245a74  110163d8bb94ae        1       0   \n",
              "3  4616d365dd2853  a930a9c79cd721  f1f1f4ef412d7e        0       0   \n",
              "4  315c96c26c9aac  de04010b3458dd  6dc8ff871e21e6        0       0   \n",
              "\n",
              "   damageDealt  DBNOs  headshotKills  heals  killPlace  ...  revives  \\\n",
              "0         0.00      0              0      0         60  ...        0   \n",
              "1        91.47      0              0      0         57  ...        0   \n",
              "2        68.00      0              0      0         47  ...        0   \n",
              "3        32.90      0              0      0         75  ...        0   \n",
              "4       100.00      0              0      0         45  ...        0   \n",
              "\n",
              "   rideDistance  roadKills  swimDistance  teamKills vehicleDestroys  \\\n",
              "0        0.0000          0          0.00          0               0   \n",
              "1        0.0045          0         11.04          0               0   \n",
              "2        0.0000          0          0.00          0               0   \n",
              "3        0.0000          0          0.00          0               0   \n",
              "4        0.0000          0          0.00          0               0   \n",
              "\n",
              "   walkDistance  weaponsAcquired  winPoints  winPlacePerc  \n",
              "0        244.80                1       1466        0.4444  \n",
              "1       1434.00                5          0        0.6400  \n",
              "2        161.80                2          0        0.7755  \n",
              "3        202.70                3          0        0.1667  \n",
              "4         49.75                2          0        0.1875  \n",
              "\n",
              "[5 rows x 29 columns]"
            ],
            "text/html": [
              "\n",
              "  <div id=\"df-245f2fc2-afbc-49c3-a19a-b6efe6ac3634\">\n",
              "    <div class=\"colab-df-container\">\n",
              "      <div>\n",
              "<style scoped>\n",
              "    .dataframe tbody tr th:only-of-type {\n",
              "        vertical-align: middle;\n",
              "    }\n",
              "\n",
              "    .dataframe tbody tr th {\n",
              "        vertical-align: top;\n",
              "    }\n",
              "\n",
              "    .dataframe thead th {\n",
              "        text-align: right;\n",
              "    }\n",
              "</style>\n",
              "<table border=\"1\" class=\"dataframe\">\n",
              "  <thead>\n",
              "    <tr style=\"text-align: right;\">\n",
              "      <th></th>\n",
              "      <th>Id</th>\n",
              "      <th>groupId</th>\n",
              "      <th>matchId</th>\n",
              "      <th>assists</th>\n",
              "      <th>boosts</th>\n",
              "      <th>damageDealt</th>\n",
              "      <th>DBNOs</th>\n",
              "      <th>headshotKills</th>\n",
              "      <th>heals</th>\n",
              "      <th>killPlace</th>\n",
              "      <th>...</th>\n",
              "      <th>revives</th>\n",
              "      <th>rideDistance</th>\n",
              "      <th>roadKills</th>\n",
              "      <th>swimDistance</th>\n",
              "      <th>teamKills</th>\n",
              "      <th>vehicleDestroys</th>\n",
              "      <th>walkDistance</th>\n",
              "      <th>weaponsAcquired</th>\n",
              "      <th>winPoints</th>\n",
              "      <th>winPlacePerc</th>\n",
              "    </tr>\n",
              "  </thead>\n",
              "  <tbody>\n",
              "    <tr>\n",
              "      <th>0</th>\n",
              "      <td>7f96b2f878858a</td>\n",
              "      <td>4d4b580de459be</td>\n",
              "      <td>a10357fd1a4a91</td>\n",
              "      <td>0</td>\n",
              "      <td>0</td>\n",
              "      <td>0.00</td>\n",
              "      <td>0</td>\n",
              "      <td>0</td>\n",
              "      <td>0</td>\n",
              "      <td>60</td>\n",
              "      <td>...</td>\n",
              "      <td>0</td>\n",
              "      <td>0.0000</td>\n",
              "      <td>0</td>\n",
              "      <td>0.00</td>\n",
              "      <td>0</td>\n",
              "      <td>0</td>\n",
              "      <td>244.80</td>\n",
              "      <td>1</td>\n",
              "      <td>1466</td>\n",
              "      <td>0.4444</td>\n",
              "    </tr>\n",
              "    <tr>\n",
              "      <th>1</th>\n",
              "      <td>eef90569b9d03c</td>\n",
              "      <td>684d5656442f9e</td>\n",
              "      <td>aeb375fc57110c</td>\n",
              "      <td>0</td>\n",
              "      <td>0</td>\n",
              "      <td>91.47</td>\n",
              "      <td>0</td>\n",
              "      <td>0</td>\n",
              "      <td>0</td>\n",
              "      <td>57</td>\n",
              "      <td>...</td>\n",
              "      <td>0</td>\n",
              "      <td>0.0045</td>\n",
              "      <td>0</td>\n",
              "      <td>11.04</td>\n",
              "      <td>0</td>\n",
              "      <td>0</td>\n",
              "      <td>1434.00</td>\n",
              "      <td>5</td>\n",
              "      <td>0</td>\n",
              "      <td>0.6400</td>\n",
              "    </tr>\n",
              "    <tr>\n",
              "      <th>2</th>\n",
              "      <td>1eaf90ac73de72</td>\n",
              "      <td>6a4a42c3245a74</td>\n",
              "      <td>110163d8bb94ae</td>\n",
              "      <td>1</td>\n",
              "      <td>0</td>\n",
              "      <td>68.00</td>\n",
              "      <td>0</td>\n",
              "      <td>0</td>\n",
              "      <td>0</td>\n",
              "      <td>47</td>\n",
              "      <td>...</td>\n",
              "      <td>0</td>\n",
              "      <td>0.0000</td>\n",
              "      <td>0</td>\n",
              "      <td>0.00</td>\n",
              "      <td>0</td>\n",
              "      <td>0</td>\n",
              "      <td>161.80</td>\n",
              "      <td>2</td>\n",
              "      <td>0</td>\n",
              "      <td>0.7755</td>\n",
              "    </tr>\n",
              "    <tr>\n",
              "      <th>3</th>\n",
              "      <td>4616d365dd2853</td>\n",
              "      <td>a930a9c79cd721</td>\n",
              "      <td>f1f1f4ef412d7e</td>\n",
              "      <td>0</td>\n",
              "      <td>0</td>\n",
              "      <td>32.90</td>\n",
              "      <td>0</td>\n",
              "      <td>0</td>\n",
              "      <td>0</td>\n",
              "      <td>75</td>\n",
              "      <td>...</td>\n",
              "      <td>0</td>\n",
              "      <td>0.0000</td>\n",
              "      <td>0</td>\n",
              "      <td>0.00</td>\n",
              "      <td>0</td>\n",
              "      <td>0</td>\n",
              "      <td>202.70</td>\n",
              "      <td>3</td>\n",
              "      <td>0</td>\n",
              "      <td>0.1667</td>\n",
              "    </tr>\n",
              "    <tr>\n",
              "      <th>4</th>\n",
              "      <td>315c96c26c9aac</td>\n",
              "      <td>de04010b3458dd</td>\n",
              "      <td>6dc8ff871e21e6</td>\n",
              "      <td>0</td>\n",
              "      <td>0</td>\n",
              "      <td>100.00</td>\n",
              "      <td>0</td>\n",
              "      <td>0</td>\n",
              "      <td>0</td>\n",
              "      <td>45</td>\n",
              "      <td>...</td>\n",
              "      <td>0</td>\n",
              "      <td>0.0000</td>\n",
              "      <td>0</td>\n",
              "      <td>0.00</td>\n",
              "      <td>0</td>\n",
              "      <td>0</td>\n",
              "      <td>49.75</td>\n",
              "      <td>2</td>\n",
              "      <td>0</td>\n",
              "      <td>0.1875</td>\n",
              "    </tr>\n",
              "  </tbody>\n",
              "</table>\n",
              "<p>5 rows × 29 columns</p>\n",
              "</div>\n",
              "      <button class=\"colab-df-convert\" onclick=\"convertToInteractive('df-245f2fc2-afbc-49c3-a19a-b6efe6ac3634')\"\n",
              "              title=\"Convert this dataframe to an interactive table.\"\n",
              "              style=\"display:none;\">\n",
              "        \n",
              "  <svg xmlns=\"http://www.w3.org/2000/svg\" height=\"24px\"viewBox=\"0 0 24 24\"\n",
              "       width=\"24px\">\n",
              "    <path d=\"M0 0h24v24H0V0z\" fill=\"none\"/>\n",
              "    <path d=\"M18.56 5.44l.94 2.06.94-2.06 2.06-.94-2.06-.94-.94-2.06-.94 2.06-2.06.94zm-11 1L8.5 8.5l.94-2.06 2.06-.94-2.06-.94L8.5 2.5l-.94 2.06-2.06.94zm10 10l.94 2.06.94-2.06 2.06-.94-2.06-.94-.94-2.06-.94 2.06-2.06.94z\"/><path d=\"M17.41 7.96l-1.37-1.37c-.4-.4-.92-.59-1.43-.59-.52 0-1.04.2-1.43.59L10.3 9.45l-7.72 7.72c-.78.78-.78 2.05 0 2.83L4 21.41c.39.39.9.59 1.41.59.51 0 1.02-.2 1.41-.59l7.78-7.78 2.81-2.81c.8-.78.8-2.07 0-2.86zM5.41 20L4 18.59l7.72-7.72 1.47 1.35L5.41 20z\"/>\n",
              "  </svg>\n",
              "      </button>\n",
              "      \n",
              "  <style>\n",
              "    .colab-df-container {\n",
              "      display:flex;\n",
              "      flex-wrap:wrap;\n",
              "      gap: 12px;\n",
              "    }\n",
              "\n",
              "    .colab-df-convert {\n",
              "      background-color: #E8F0FE;\n",
              "      border: none;\n",
              "      border-radius: 50%;\n",
              "      cursor: pointer;\n",
              "      display: none;\n",
              "      fill: #1967D2;\n",
              "      height: 32px;\n",
              "      padding: 0 0 0 0;\n",
              "      width: 32px;\n",
              "    }\n",
              "\n",
              "    .colab-df-convert:hover {\n",
              "      background-color: #E2EBFA;\n",
              "      box-shadow: 0px 1px 2px rgba(60, 64, 67, 0.3), 0px 1px 3px 1px rgba(60, 64, 67, 0.15);\n",
              "      fill: #174EA6;\n",
              "    }\n",
              "\n",
              "    [theme=dark] .colab-df-convert {\n",
              "      background-color: #3B4455;\n",
              "      fill: #D2E3FC;\n",
              "    }\n",
              "\n",
              "    [theme=dark] .colab-df-convert:hover {\n",
              "      background-color: #434B5C;\n",
              "      box-shadow: 0px 1px 3px 1px rgba(0, 0, 0, 0.15);\n",
              "      filter: drop-shadow(0px 1px 2px rgba(0, 0, 0, 0.3));\n",
              "      fill: #FFFFFF;\n",
              "    }\n",
              "  </style>\n",
              "\n",
              "      <script>\n",
              "        const buttonEl =\n",
              "          document.querySelector('#df-245f2fc2-afbc-49c3-a19a-b6efe6ac3634 button.colab-df-convert');\n",
              "        buttonEl.style.display =\n",
              "          google.colab.kernel.accessAllowed ? 'block' : 'none';\n",
              "\n",
              "        async function convertToInteractive(key) {\n",
              "          const element = document.querySelector('#df-245f2fc2-afbc-49c3-a19a-b6efe6ac3634');\n",
              "          const dataTable =\n",
              "            await google.colab.kernel.invokeFunction('convertToInteractive',\n",
              "                                                     [key], {});\n",
              "          if (!dataTable) return;\n",
              "\n",
              "          const docLinkHtml = 'Like what you see? Visit the ' +\n",
              "            '<a target=\"_blank\" href=https://colab.research.google.com/notebooks/data_table.ipynb>data table notebook</a>'\n",
              "            + ' to learn more about interactive tables.';\n",
              "          element.innerHTML = '';\n",
              "          dataTable['output_type'] = 'display_data';\n",
              "          await google.colab.output.renderOutput(dataTable, element);\n",
              "          const docLink = document.createElement('div');\n",
              "          docLink.innerHTML = docLinkHtml;\n",
              "          element.appendChild(docLink);\n",
              "        }\n",
              "      </script>\n",
              "    </div>\n",
              "  </div>\n",
              "  "
            ]
          },
          "metadata": {},
          "execution_count": 82
        }
      ]
    },
    {
      "cell_type": "code",
      "source": [
        "df.isnull().sum()  #결측치 확인"
      ],
      "metadata": {
        "colab": {
          "base_uri": "https://localhost:8080/"
        },
        "id": "ACrjo80y_Djv",
        "outputId": "dd761b09-c474-4b36-af4e-be849a935543"
      },
      "execution_count": 83,
      "outputs": [
        {
          "output_type": "execute_result",
          "data": {
            "text/plain": [
              "Id                 0\n",
              "groupId            0\n",
              "matchId            0\n",
              "assists            0\n",
              "boosts             0\n",
              "damageDealt        0\n",
              "DBNOs              0\n",
              "headshotKills      0\n",
              "heals              0\n",
              "killPlace          0\n",
              "killPoints         0\n",
              "kills              0\n",
              "killStreaks        0\n",
              "longestKill        0\n",
              "matchDuration      0\n",
              "matchType          0\n",
              "maxPlace           0\n",
              "numGroups          0\n",
              "rankPoints         0\n",
              "revives            0\n",
              "rideDistance       0\n",
              "roadKills          0\n",
              "swimDistance       0\n",
              "teamKills          0\n",
              "vehicleDestroys    0\n",
              "walkDistance       0\n",
              "weaponsAcquired    0\n",
              "winPoints          0\n",
              "winPlacePerc       1\n",
              "dtype: int64"
            ]
          },
          "metadata": {},
          "execution_count": 83
        }
      ]
    },
    {
      "cell_type": "code",
      "source": [
        "df.duplicated().sum()  #중복된 row 확인"
      ],
      "metadata": {
        "colab": {
          "base_uri": "https://localhost:8080/"
        },
        "id": "Qp4yXoRw_H1Q",
        "outputId": "309f6843-d7eb-4361-8359-356a17498944"
      },
      "execution_count": 84,
      "outputs": [
        {
          "output_type": "execute_result",
          "data": {
            "text/plain": [
              "0"
            ]
          },
          "metadata": {},
          "execution_count": 84
        }
      ]
    },
    {
      "cell_type": "code",
      "source": [
        "df = df.dropna(axis=0)\n",
        "df.isnull().sum()"
      ],
      "metadata": {
        "colab": {
          "base_uri": "https://localhost:8080/"
        },
        "id": "fyRvsly7_L4N",
        "outputId": "3a1be936-9442-44c8-f273-6b6305e25cd9"
      },
      "execution_count": 85,
      "outputs": [
        {
          "output_type": "execute_result",
          "data": {
            "text/plain": [
              "Id                 0\n",
              "groupId            0\n",
              "matchId            0\n",
              "assists            0\n",
              "boosts             0\n",
              "damageDealt        0\n",
              "DBNOs              0\n",
              "headshotKills      0\n",
              "heals              0\n",
              "killPlace          0\n",
              "killPoints         0\n",
              "kills              0\n",
              "killStreaks        0\n",
              "longestKill        0\n",
              "matchDuration      0\n",
              "matchType          0\n",
              "maxPlace           0\n",
              "numGroups          0\n",
              "rankPoints         0\n",
              "revives            0\n",
              "rideDistance       0\n",
              "roadKills          0\n",
              "swimDistance       0\n",
              "teamKills          0\n",
              "vehicleDestroys    0\n",
              "walkDistance       0\n",
              "weaponsAcquired    0\n",
              "winPoints          0\n",
              "winPlacePerc       0\n",
              "dtype: int64"
            ]
          },
          "metadata": {},
          "execution_count": 85
        }
      ]
    },
    {
      "cell_type": "markdown",
      "source": [
        "## 1-2. column 설명"
      ],
      "metadata": {
        "id": "7u6PnyFFJJJj"
      }
    },
    {
      "cell_type": "markdown",
      "source": [
        "* **DBNOs** - 기절시킨 적 플레이어의 수\n",
        "* **assists** - 이 플레이어가 피해를 입히고 팀 동료에 의해 사망한 플레이어의 수\n",
        "* **boosts** - 사용한 부스팅 아이템의 수\n",
        "* **damageDealt** - 팀킬 제외한 총 피해량\n",
        "* **headshotKills** - 헤드샷으로 사망한 적 플레이어의 수\n",
        "* **heals** - 사용한 치유 아이템의 수\n",
        "* **Id** - 플레이어의 아이디\n",
        "* **killPlace** - 이 매치의 킬 순위\n",
        "* **killPoints** - 킬 수만의 외부 랭킹\n",
        "* **killStreaks** - 단기간에 죽은 적의 최대 수\n",
        "* **kills** - 죽인 적 플레이어의 수\n",
        "* **longestKill** - 사망 시 사망한 플레이어와의 최장 거리\n",
        "* **matchDuration** - 매치 시간\n",
        "* **matchId** - 매치를 식별하는 아이디\n",
        "* **matchType** - 게임모드를 식별(solo, duo, squad, solo-fpp, duo-fpp, squad-fpp 등)\n",
        "* **rankPoints** - 플레이어의 Elo 랭킹\n",
        "* **revives** - 팀원들을 소생시킨 횟수\n",
        "* **rideDistance** - 차량으로 이동한 총 이동 거리(m 단위)\n",
        "* **roadKills** - 차에 타고 있을 때의 킬 수\n",
        "* **swimDistance** - 수영으로 이동한 총 이동거리(m 단위)\n",
        "* **teamKills** - 팀원을 죽인 횟수\n",
        "* **vehicleDestroys** - 차량은 파괴한 횟수\n",
        "* **walkDistance** - 걸어서 이동한 총 이동 거리(m 단위)\n",
        "* **weaponsAcquired** - 획득한 무기의 수\n",
        "* **winPoints** - 순위로만 매겨진 랭킹\n",
        "* **groupId** - 매치내 그룹을 식별하는 ID\n",
        "* **numGroups** - 매치 안에 데이터가 있는 그룹의 수\n",
        "* **maxPlace** - 매치 안에서의 제일 마지막 순위\n",
        "* **winPlacePerc** - 예측의 타겟으로 순위 백분위 -> 상위 10%안에 들면 1, 상위 10%안에 들지 못하면 0)\n",
        "\n",
        "\n",
        "---\n",
        "* **totalDistance** - 총 이동 거리(m 단위)\n",
        "* **headshotKillsPerkills** - 킬 중에서 헤드샷 킬의 비율(킬이 없으면 -1)\n",
        "* **useCar** - 차를 사용했으면 1, 차를 사용하지 않았으면 0\n"
      ],
      "metadata": {
        "id": "HhwfGmoaDfuh"
      }
    },
    {
      "cell_type": "markdown",
      "source": [
        "# 2. 데이터 전처리"
      ],
      "metadata": {
        "id": "LVUAk5YnKAYa"
      }
    },
    {
      "cell_type": "markdown",
      "source": [
        "### 2-1. 매치 타입 별 데이터 수 확인 및 예측할 매치타입 결정"
      ],
      "metadata": {
        "id": "ibFq1Bc2SjWx"
      }
    },
    {
      "cell_type": "code",
      "source": [
        "match_type = pd.DataFrame(df['matchType'].value_counts())\n",
        "match_type.columns = ['count']\n",
        "match_type"
      ],
      "metadata": {
        "id": "Az6MtXT5J_S6",
        "outputId": "c3203420-28a9-48c5-fd9f-3e15521405e3",
        "colab": {
          "base_uri": "https://localhost:8080/",
          "height": 551
        }
      },
      "execution_count": 86,
      "outputs": [
        {
          "output_type": "execute_result",
          "data": {
            "text/plain": [
              "                    count\n",
              "squad-fpp         1756186\n",
              "duo-fpp            996691\n",
              "squad              626526\n",
              "solo-fpp           536761\n",
              "duo                313591\n",
              "solo               181943\n",
              "normal-squad-fpp    17174\n",
              "crashfpp             6287\n",
              "normal-duo-fpp       5489\n",
              "flaretpp             2505\n",
              "normal-solo-fpp      1682\n",
              "flarefpp              718\n",
              "normal-squad          516\n",
              "crashtpp              371\n",
              "normal-solo           326\n",
              "normal-duo            199"
            ],
            "text/html": [
              "\n",
              "  <div id=\"df-6eca555c-73c4-40cf-9885-28d8e5476e38\">\n",
              "    <div class=\"colab-df-container\">\n",
              "      <div>\n",
              "<style scoped>\n",
              "    .dataframe tbody tr th:only-of-type {\n",
              "        vertical-align: middle;\n",
              "    }\n",
              "\n",
              "    .dataframe tbody tr th {\n",
              "        vertical-align: top;\n",
              "    }\n",
              "\n",
              "    .dataframe thead th {\n",
              "        text-align: right;\n",
              "    }\n",
              "</style>\n",
              "<table border=\"1\" class=\"dataframe\">\n",
              "  <thead>\n",
              "    <tr style=\"text-align: right;\">\n",
              "      <th></th>\n",
              "      <th>count</th>\n",
              "    </tr>\n",
              "  </thead>\n",
              "  <tbody>\n",
              "    <tr>\n",
              "      <th>squad-fpp</th>\n",
              "      <td>1756186</td>\n",
              "    </tr>\n",
              "    <tr>\n",
              "      <th>duo-fpp</th>\n",
              "      <td>996691</td>\n",
              "    </tr>\n",
              "    <tr>\n",
              "      <th>squad</th>\n",
              "      <td>626526</td>\n",
              "    </tr>\n",
              "    <tr>\n",
              "      <th>solo-fpp</th>\n",
              "      <td>536761</td>\n",
              "    </tr>\n",
              "    <tr>\n",
              "      <th>duo</th>\n",
              "      <td>313591</td>\n",
              "    </tr>\n",
              "    <tr>\n",
              "      <th>solo</th>\n",
              "      <td>181943</td>\n",
              "    </tr>\n",
              "    <tr>\n",
              "      <th>normal-squad-fpp</th>\n",
              "      <td>17174</td>\n",
              "    </tr>\n",
              "    <tr>\n",
              "      <th>crashfpp</th>\n",
              "      <td>6287</td>\n",
              "    </tr>\n",
              "    <tr>\n",
              "      <th>normal-duo-fpp</th>\n",
              "      <td>5489</td>\n",
              "    </tr>\n",
              "    <tr>\n",
              "      <th>flaretpp</th>\n",
              "      <td>2505</td>\n",
              "    </tr>\n",
              "    <tr>\n",
              "      <th>normal-solo-fpp</th>\n",
              "      <td>1682</td>\n",
              "    </tr>\n",
              "    <tr>\n",
              "      <th>flarefpp</th>\n",
              "      <td>718</td>\n",
              "    </tr>\n",
              "    <tr>\n",
              "      <th>normal-squad</th>\n",
              "      <td>516</td>\n",
              "    </tr>\n",
              "    <tr>\n",
              "      <th>crashtpp</th>\n",
              "      <td>371</td>\n",
              "    </tr>\n",
              "    <tr>\n",
              "      <th>normal-solo</th>\n",
              "      <td>326</td>\n",
              "    </tr>\n",
              "    <tr>\n",
              "      <th>normal-duo</th>\n",
              "      <td>199</td>\n",
              "    </tr>\n",
              "  </tbody>\n",
              "</table>\n",
              "</div>\n",
              "      <button class=\"colab-df-convert\" onclick=\"convertToInteractive('df-6eca555c-73c4-40cf-9885-28d8e5476e38')\"\n",
              "              title=\"Convert this dataframe to an interactive table.\"\n",
              "              style=\"display:none;\">\n",
              "        \n",
              "  <svg xmlns=\"http://www.w3.org/2000/svg\" height=\"24px\"viewBox=\"0 0 24 24\"\n",
              "       width=\"24px\">\n",
              "    <path d=\"M0 0h24v24H0V0z\" fill=\"none\"/>\n",
              "    <path d=\"M18.56 5.44l.94 2.06.94-2.06 2.06-.94-2.06-.94-.94-2.06-.94 2.06-2.06.94zm-11 1L8.5 8.5l.94-2.06 2.06-.94-2.06-.94L8.5 2.5l-.94 2.06-2.06.94zm10 10l.94 2.06.94-2.06 2.06-.94-2.06-.94-.94-2.06-.94 2.06-2.06.94z\"/><path d=\"M17.41 7.96l-1.37-1.37c-.4-.4-.92-.59-1.43-.59-.52 0-1.04.2-1.43.59L10.3 9.45l-7.72 7.72c-.78.78-.78 2.05 0 2.83L4 21.41c.39.39.9.59 1.41.59.51 0 1.02-.2 1.41-.59l7.78-7.78 2.81-2.81c.8-.78.8-2.07 0-2.86zM5.41 20L4 18.59l7.72-7.72 1.47 1.35L5.41 20z\"/>\n",
              "  </svg>\n",
              "      </button>\n",
              "      \n",
              "  <style>\n",
              "    .colab-df-container {\n",
              "      display:flex;\n",
              "      flex-wrap:wrap;\n",
              "      gap: 12px;\n",
              "    }\n",
              "\n",
              "    .colab-df-convert {\n",
              "      background-color: #E8F0FE;\n",
              "      border: none;\n",
              "      border-radius: 50%;\n",
              "      cursor: pointer;\n",
              "      display: none;\n",
              "      fill: #1967D2;\n",
              "      height: 32px;\n",
              "      padding: 0 0 0 0;\n",
              "      width: 32px;\n",
              "    }\n",
              "\n",
              "    .colab-df-convert:hover {\n",
              "      background-color: #E2EBFA;\n",
              "      box-shadow: 0px 1px 2px rgba(60, 64, 67, 0.3), 0px 1px 3px 1px rgba(60, 64, 67, 0.15);\n",
              "      fill: #174EA6;\n",
              "    }\n",
              "\n",
              "    [theme=dark] .colab-df-convert {\n",
              "      background-color: #3B4455;\n",
              "      fill: #D2E3FC;\n",
              "    }\n",
              "\n",
              "    [theme=dark] .colab-df-convert:hover {\n",
              "      background-color: #434B5C;\n",
              "      box-shadow: 0px 1px 3px 1px rgba(0, 0, 0, 0.15);\n",
              "      filter: drop-shadow(0px 1px 2px rgba(0, 0, 0, 0.3));\n",
              "      fill: #FFFFFF;\n",
              "    }\n",
              "  </style>\n",
              "\n",
              "      <script>\n",
              "        const buttonEl =\n",
              "          document.querySelector('#df-6eca555c-73c4-40cf-9885-28d8e5476e38 button.colab-df-convert');\n",
              "        buttonEl.style.display =\n",
              "          google.colab.kernel.accessAllowed ? 'block' : 'none';\n",
              "\n",
              "        async function convertToInteractive(key) {\n",
              "          const element = document.querySelector('#df-6eca555c-73c4-40cf-9885-28d8e5476e38');\n",
              "          const dataTable =\n",
              "            await google.colab.kernel.invokeFunction('convertToInteractive',\n",
              "                                                     [key], {});\n",
              "          if (!dataTable) return;\n",
              "\n",
              "          const docLinkHtml = 'Like what you see? Visit the ' +\n",
              "            '<a target=\"_blank\" href=https://colab.research.google.com/notebooks/data_table.ipynb>data table notebook</a>'\n",
              "            + ' to learn more about interactive tables.';\n",
              "          element.innerHTML = '';\n",
              "          dataTable['output_type'] = 'display_data';\n",
              "          await google.colab.output.renderOutput(dataTable, element);\n",
              "          const docLink = document.createElement('div');\n",
              "          docLink.innerHTML = docLinkHtml;\n",
              "          element.appendChild(docLink);\n",
              "        }\n",
              "      </script>\n",
              "    </div>\n",
              "  </div>\n",
              "  "
            ]
          },
          "metadata": {},
          "execution_count": 86
        }
      ]
    },
    {
      "cell_type": "code",
      "source": [
        "match_type.plot.pie(y='count', legend='True', autopct='%.1f', figsize=(15, 15));"
      ],
      "metadata": {
        "id": "3hLrDJe7TeQj",
        "outputId": "aec84556-0c01-4c14-b818-a129a649eb0d",
        "colab": {
          "base_uri": "https://localhost:8080/",
          "height": 846
        }
      },
      "execution_count": 87,
      "outputs": [
        {
          "output_type": "display_data",
          "data": {
            "text/plain": [
              "<Figure size 1080x1080 with 1 Axes>"
            ],
            "image/png": "[encoded data removed]"
          },
          "metadata": {}
        }
      ]
    },
    {
      "cell_type": "code",
      "source": [
        "match_type = match_type.drop(['normal-squad-fpp', 'crashfpp', 'normal-duo-fpp', 'flaretpp',\n",
        "       'normal-solo-fpp', 'flarefpp', 'normal-squad', 'crashtpp',\n",
        "       'normal-solo', 'normal-duo']) "
      ],
      "metadata": {
        "id": "c8sNb1yyU4dN"
      },
      "execution_count": 88,
      "outputs": []
    },
    {
      "cell_type": "code",
      "source": [
        "import matplotlib.pyplot as plt\n",
        "import seaborn as sns\n",
        "\n",
        "plt.figure(figsize=(15, 10))\n",
        "g = sns.barplot(data = match_type, x = match_type.index, y = \"count\")\n",
        "ax = g\n",
        "plt.text(2.73, 545000, '536762', fontsize= 20)\n",
        "\n",
        "plt.xticks(fontsize=12, rotation=45)\n",
        "plt.show()"
      ],
      "metadata": {
        "id": "xAEXnmguNNzK",
        "outputId": "cc183f94-ef5d-49ec-99d0-c5af90fb4ada",
        "colab": {
          "base_uri": "https://localhost:8080/",
          "height": 645
        }
      },
      "execution_count": 89,
      "outputs": [
        {
          "output_type": "display_data",
          "data": {
            "text/plain": [
              "<Figure size 1080x720 with 1 Axes>"
            ],
            "image/png": "[encoded data removed]"
          },
          "metadata": {
            "needs_background": "light"
          }
        }
      ]
    },
    {
      "cell_type": "markdown",
      "source": [
        "* 약 53만개의 데이터를 가지고 있는 3인칭 solo-fpp 매치 타입의 순위 예측을 하기로 결정"
      ],
      "metadata": {
        "id": "_UxzcgIlSyZA"
      }
    },
    {
      "cell_type": "markdown",
      "source": [
        "### 2-2 match type이 solo-fpp인 데이터만 남기기"
      ],
      "metadata": {
        "id": "6TF4VaJ9WiKR"
      }
    },
    {
      "cell_type": "code",
      "source": [
        "df_solo = df[df['matchType'] == 'solo-fpp'].reset_index(drop = True)\n",
        "df_solo.head()"
      ],
      "metadata": {
        "id": "zx1BstIASwvT",
        "outputId": "bd2bdbee-34d5-4f50-8bab-713b90faa8c2",
        "colab": {
          "base_uri": "https://localhost:8080/",
          "height": 299
        }
      },
      "execution_count": 90,
      "outputs": [
        {
          "output_type": "execute_result",
          "data": {
            "text/plain": [
              "               Id         groupId         matchId  assists  boosts  \\\n",
              "0  315c96c26c9aac  de04010b3458dd  6dc8ff871e21e6        0       0   \n",
              "1  311b84c6ff4390  eaba5fcb7fc1ae  292611730ca862        0       0   \n",
              "2  b7807186e3f679  3c08e461874749  2c30ddf481c52d        0       1   \n",
              "3  92022479b92ce7  2f2c33f548c4b9  07948d723b9c0f        0       3   \n",
              "4  47143f942503e0  e17a8867a393ec  bc2faecb77e5ec        0       0   \n",
              "\n",
              "   damageDealt  DBNOs  headshotKills  heals  killPlace  ...  revives  \\\n",
              "0      100.000      0              0      0         45  ...        0   \n",
              "1        8.538      0              0      0         48  ...        0   \n",
              "2      324.200      0              1      5          5  ...        0   \n",
              "3      254.300      0              0     12         13  ...        0   \n",
              "4      136.900      0              0      0         37  ...        0   \n",
              "\n",
              "   rideDistance  roadKills  swimDistance  teamKills vehicleDestroys  \\\n",
              "0           0.0          0          0.00          0               0   \n",
              "1        2004.0          0          0.00          0               0   \n",
              "2        1228.0          0         76.84          0               0   \n",
              "3        2367.0          0         15.29          0               0   \n",
              "4           0.0          0          0.00          0               0   \n",
              "\n",
              "   walkDistance  weaponsAcquired  winPoints  winPlacePerc  \n",
              "0         49.75                2          0        0.1875  \n",
              "1       1089.00                6       1500        0.7368  \n",
              "2       2050.00                6       1462        0.8750  \n",
              "3       1787.00                3          0        0.8211  \n",
              "4        270.70                1          0        0.3474  \n",
              "\n",
              "[5 rows x 29 columns]"
            ],
            "text/html": [
              "\n",
              "  <div id=\"df-bd40bb3f-c2ee-4f8a-857a-5c137cce2ea4\">\n",
              "    <div class=\"colab-df-container\">\n",
              "      <div>\n",
              "<style scoped>\n",
              "    .dataframe tbody tr th:only-of-type {\n",
              "        vertical-align: middle;\n",
              "    }\n",
              "\n",
              "    .dataframe tbody tr th {\n",
              "        vertical-align: top;\n",
              "    }\n",
              "\n",
              "    .dataframe thead th {\n",
              "        text-align: right;\n",
              "    }\n",
              "</style>\n",
              "<table border=\"1\" class=\"dataframe\">\n",
              "  <thead>\n",
              "    <tr style=\"text-align: right;\">\n",
              "      <th></th>\n",
              "      <th>Id</th>\n",
              "      <th>groupId</th>\n",
              "      <th>matchId</th>\n",
              "      <th>assists</th>\n",
              "      <th>boosts</th>\n",
              "      <th>damageDealt</th>\n",
              "      <th>DBNOs</th>\n",
              "      <th>headshotKills</th>\n",
              "      <th>heals</th>\n",
              "      <th>killPlace</th>\n",
              "      <th>...</th>\n",
              "      <th>revives</th>\n",
              "      <th>rideDistance</th>\n",
              "      <th>roadKills</th>\n",
              "      <th>swimDistance</th>\n",
              "      <th>teamKills</th>\n",
              "      <th>vehicleDestroys</th>\n",
              "      <th>walkDistance</th>\n",
              "      <th>weaponsAcquired</th>\n",
              "      <th>winPoints</th>\n",
              "      <th>winPlacePerc</th>\n",
              "    </tr>\n",
              "  </thead>\n",
              "  <tbody>\n",
              "    <tr>\n",
              "      <th>0</th>\n",
              "      <td>315c96c26c9aac</td>\n",
              "      <td>de04010b3458dd</td>\n",
              "      <td>6dc8ff871e21e6</td>\n",
              "      <td>0</td>\n",
              "      <td>0</td>\n",
              "      <td>100.000</td>\n",
              "      <td>0</td>\n",
              "      <td>0</td>\n",
              "      <td>0</td>\n",
              "      <td>45</td>\n",
              "      <td>...</td>\n",
              "      <td>0</td>\n",
              "      <td>0.0</td>\n",
              "      <td>0</td>\n",
              "      <td>0.00</td>\n",
              "      <td>0</td>\n",
              "      <td>0</td>\n",
              "      <td>49.75</td>\n",
              "      <td>2</td>\n",
              "      <td>0</td>\n",
              "      <td>0.1875</td>\n",
              "    </tr>\n",
              "    <tr>\n",
              "      <th>1</th>\n",
              "      <td>311b84c6ff4390</td>\n",
              "      <td>eaba5fcb7fc1ae</td>\n",
              "      <td>292611730ca862</td>\n",
              "      <td>0</td>\n",
              "      <td>0</td>\n",
              "      <td>8.538</td>\n",
              "      <td>0</td>\n",
              "      <td>0</td>\n",
              "      <td>0</td>\n",
              "      <td>48</td>\n",
              "      <td>...</td>\n",
              "      <td>0</td>\n",
              "      <td>2004.0</td>\n",
              "      <td>0</td>\n",
              "      <td>0.00</td>\n",
              "      <td>0</td>\n",
              "      <td>0</td>\n",
              "      <td>1089.00</td>\n",
              "      <td>6</td>\n",
              "      <td>1500</td>\n",
              "      <td>0.7368</td>\n",
              "    </tr>\n",
              "    <tr>\n",
              "      <th>2</th>\n",
              "      <td>b7807186e3f679</td>\n",
              "      <td>3c08e461874749</td>\n",
              "      <td>2c30ddf481c52d</td>\n",
              "      <td>0</td>\n",
              "      <td>1</td>\n",
              "      <td>324.200</td>\n",
              "      <td>0</td>\n",
              "      <td>1</td>\n",
              "      <td>5</td>\n",
              "      <td>5</td>\n",
              "      <td>...</td>\n",
              "      <td>0</td>\n",
              "      <td>1228.0</td>\n",
              "      <td>0</td>\n",
              "      <td>76.84</td>\n",
              "      <td>0</td>\n",
              "      <td>0</td>\n",
              "      <td>2050.00</td>\n",
              "      <td>6</td>\n",
              "      <td>1462</td>\n",
              "      <td>0.8750</td>\n",
              "    </tr>\n",
              "    <tr>\n",
              "      <th>3</th>\n",
              "      <td>92022479b92ce7</td>\n",
              "      <td>2f2c33f548c4b9</td>\n",
              "      <td>07948d723b9c0f</td>\n",
              "      <td>0</td>\n",
              "      <td>3</td>\n",
              "      <td>254.300</td>\n",
              "      <td>0</td>\n",
              "      <td>0</td>\n",
              "      <td>12</td>\n",
              "      <td>13</td>\n",
              "      <td>...</td>\n",
              "      <td>0</td>\n",
              "      <td>2367.0</td>\n",
              "      <td>0</td>\n",
              "      <td>15.29</td>\n",
              "      <td>0</td>\n",
              "      <td>0</td>\n",
              "      <td>1787.00</td>\n",
              "      <td>3</td>\n",
              "      <td>0</td>\n",
              "      <td>0.8211</td>\n",
              "    </tr>\n",
              "    <tr>\n",
              "      <th>4</th>\n",
              "      <td>47143f942503e0</td>\n",
              "      <td>e17a8867a393ec</td>\n",
              "      <td>bc2faecb77e5ec</td>\n",
              "      <td>0</td>\n",
              "      <td>0</td>\n",
              "      <td>136.900</td>\n",
              "      <td>0</td>\n",
              "      <td>0</td>\n",
              "      <td>0</td>\n",
              "      <td>37</td>\n",
              "      <td>...</td>\n",
              "      <td>0</td>\n",
              "      <td>0.0</td>\n",
              "      <td>0</td>\n",
              "      <td>0.00</td>\n",
              "      <td>0</td>\n",
              "      <td>0</td>\n",
              "      <td>270.70</td>\n",
              "      <td>1</td>\n",
              "      <td>0</td>\n",
              "      <td>0.3474</td>\n",
              "    </tr>\n",
              "  </tbody>\n",
              "</table>\n",
              "<p>5 rows × 29 columns</p>\n",
              "</div>\n",
              "      <button class=\"colab-df-convert\" onclick=\"convertToInteractive('df-bd40bb3f-c2ee-4f8a-857a-5c137cce2ea4')\"\n",
              "              title=\"Convert this dataframe to an interactive table.\"\n",
              "              style=\"display:none;\">\n",
              "        \n",
              "  <svg xmlns=\"http://www.w3.org/2000/svg\" height=\"24px\"viewBox=\"0 0 24 24\"\n",
              "       width=\"24px\">\n",
              "    <path d=\"M0 0h24v24H0V0z\" fill=\"none\"/>\n",
              "    <path d=\"M18.56 5.44l.94 2.06.94-2.06 2.06-.94-2.06-.94-.94-2.06-.94 2.06-2.06.94zm-11 1L8.5 8.5l.94-2.06 2.06-.94-2.06-.94L8.5 2.5l-.94 2.06-2.06.94zm10 10l.94 2.06.94-2.06 2.06-.94-2.06-.94-.94-2.06-.94 2.06-2.06.94z\"/><path d=\"M17.41 7.96l-1.37-1.37c-.4-.4-.92-.59-1.43-.59-.52 0-1.04.2-1.43.59L10.3 9.45l-7.72 7.72c-.78.78-.78 2.05 0 2.83L4 21.41c.39.39.9.59 1.41.59.51 0 1.02-.2 1.41-.59l7.78-7.78 2.81-2.81c.8-.78.8-2.07 0-2.86zM5.41 20L4 18.59l7.72-7.72 1.47 1.35L5.41 20z\"/>\n",
              "  </svg>\n",
              "      </button>\n",
              "      \n",
              "  <style>\n",
              "    .colab-df-container {\n",
              "      display:flex;\n",
              "      flex-wrap:wrap;\n",
              "      gap: 12px;\n",
              "    }\n",
              "\n",
              "    .colab-df-convert {\n",
              "      background-color: #E8F0FE;\n",
              "      border: none;\n",
              "      border-radius: 50%;\n",
              "      cursor: pointer;\n",
              "      display: none;\n",
              "      fill: #1967D2;\n",
              "      height: 32px;\n",
              "      padding: 0 0 0 0;\n",
              "      width: 32px;\n",
              "    }\n",
              "\n",
              "    .colab-df-convert:hover {\n",
              "      background-color: #E2EBFA;\n",
              "      box-shadow: 0px 1px 2px rgba(60, 64, 67, 0.3), 0px 1px 3px 1px rgba(60, 64, 67, 0.15);\n",
              "      fill: #174EA6;\n",
              "    }\n",
              "\n",
              "    [theme=dark] .colab-df-convert {\n",
              "      background-color: #3B4455;\n",
              "      fill: #D2E3FC;\n",
              "    }\n",
              "\n",
              "    [theme=dark] .colab-df-convert:hover {\n",
              "      background-color: #434B5C;\n",
              "      box-shadow: 0px 1px 3px 1px rgba(0, 0, 0, 0.15);\n",
              "      filter: drop-shadow(0px 1px 2px rgba(0, 0, 0, 0.3));\n",
              "      fill: #FFFFFF;\n",
              "    }\n",
              "  </style>\n",
              "\n",
              "      <script>\n",
              "        const buttonEl =\n",
              "          document.querySelector('#df-bd40bb3f-c2ee-4f8a-857a-5c137cce2ea4 button.colab-df-convert');\n",
              "        buttonEl.style.display =\n",
              "          google.colab.kernel.accessAllowed ? 'block' : 'none';\n",
              "\n",
              "        async function convertToInteractive(key) {\n",
              "          const element = document.querySelector('#df-bd40bb3f-c2ee-4f8a-857a-5c137cce2ea4');\n",
              "          const dataTable =\n",
              "            await google.colab.kernel.invokeFunction('convertToInteractive',\n",
              "                                                     [key], {});\n",
              "          if (!dataTable) return;\n",
              "\n",
              "          const docLinkHtml = 'Like what you see? Visit the ' +\n",
              "            '<a target=\"_blank\" href=https://colab.research.google.com/notebooks/data_table.ipynb>data table notebook</a>'\n",
              "            + ' to learn more about interactive tables.';\n",
              "          element.innerHTML = '';\n",
              "          dataTable['output_type'] = 'display_data';\n",
              "          await google.colab.output.renderOutput(dataTable, element);\n",
              "          const docLink = document.createElement('div');\n",
              "          docLink.innerHTML = docLinkHtml;\n",
              "          element.appendChild(docLink);\n",
              "        }\n",
              "      </script>\n",
              "    </div>\n",
              "  </div>\n",
              "  "
            ]
          },
          "metadata": {},
          "execution_count": 90
        }
      ]
    },
    {
      "cell_type": "markdown",
      "source": [
        "### 2-3 train data / validation data / test data 분리"
      ],
      "metadata": {
        "id": "Z2NNfyyL8UhU"
      }
    },
    {
      "cell_type": "code",
      "source": [
        "from sklearn.model_selection import train_test_split\n",
        "\n",
        "def data_divided(df):\n",
        "  train, test = train_test_split(df, test_size=0.1, random_state=1)\n",
        "  train, val = train_test_split(train, test_size=0.1, random_state=1)\n",
        "  return train, test, val"
      ],
      "metadata": {
        "id": "fbKmXgn78TUy"
      },
      "execution_count": 91,
      "outputs": []
    },
    {
      "cell_type": "code",
      "source": [
        "train, test, val = data_divided(df_solo)\n",
        "print(train.shape, test.shape, val.shape)"
      ],
      "metadata": {
        "colab": {
          "base_uri": "https://localhost:8080/"
        },
        "id": "XQqqCv_a9yOi",
        "outputId": "49fdc820-ea2b-4200-9c61-c9e38dcb104c"
      },
      "execution_count": 92,
      "outputs": [
        {
          "output_type": "stream",
          "name": "stdout",
          "text": [
            "(434775, 29) (53677, 29) (48309, 29)\n"
          ]
        }
      ]
    },
    {
      "cell_type": "markdown",
      "source": [
        "### 2-4 EDA"
      ],
      "metadata": {
        "id": "Iy9ljYug-vye"
      }
    },
    {
      "cell_type": "code",
      "source": [
        "import numpy as np\n",
        "\n",
        "def eda_process(df):\n",
        "  df = df.drop(['Id', 'groupId', 'matchId', 'assists', 'DBNOs', 'matchType', 'numGroups', 'revives', 'teamKills'], axis = 1)   # 필요없는 컬럼 삭제\n",
        "  df['totalDistance'] = df['rideDistance'] + df['swimDistance'] + df['walkDistance']   # 총 이동거리 컬럼 추가(m 단위)\n",
        "  df['headshotKillsPerKills'] = np.where(df[\"kills\"].values == 0 , -1, round(df['headshotKills']/df['kills'],4))  # 킬중에서 헤드샷 킬의 비율(킬이 없으면 -1)\n",
        "  df['useCar'] = np.where(df['rideDistance'] != 0, '1', '0') # 차를 사용했으면 1, 차를 사용하지 않았으면 0  \n",
        "  \n",
        "  # 매치의 플레이어 수가 90이하인 매치 삭제\n",
        "  indexNames = df[df['maxPlace'] <= 90].index\n",
        "  df.drop(indexNames, inplace = True)\n",
        "  df.reset_index(drop = True)\n",
        "\n",
        "  df['winPlacePerc'] = np.where(df['winPlacePerc'] < 0.9, 0, 1)   # 상위 10% 안에 들었으면 1, 상위 10%안에 들지 못했으면 0으로 변경\n",
        "  return df"
      ],
      "metadata": {
        "id": "GVyUFq5F-uiV"
      },
      "execution_count": 95,
      "outputs": []
    },
    {
      "cell_type": "code",
      "source": [
        "train = eda_process(train)\n",
        "test = eda_process(test)\n",
        "val = eda_process(val)"
      ],
      "metadata": {
        "id": "01oKRN13BB_g"
      },
      "execution_count": 96,
      "outputs": []
    },
    {
      "cell_type": "code",
      "source": [
        "print(train.shape, test.shape, val.shape)"
      ],
      "metadata": {
        "colab": {
          "base_uri": "https://localhost:8080/"
        },
        "id": "0rHvR4RJBKeY",
        "outputId": "66fbdbe1-9e14-4e63-ccf7-3738b265e51b"
      },
      "execution_count": 97,
      "outputs": [
        {
          "output_type": "stream",
          "name": "stdout",
          "text": [
            "(407259, 23) (50183, 23) (45278, 23)\n"
          ]
        }
      ]
    },
    {
      "cell_type": "code",
      "source": [
        "def divide_X_y(df):\n",
        "  target = 'winPlacePerc'\n",
        "  # features = ['boosts', 'damageDealt', 'headshotKills', 'heals', 'killPlace',\n",
        "  #      'killPoints', 'kills', 'killStreaks', 'longestKill', 'matchDuration',\n",
        "  #      'maxPlace', 'rankPoints', 'rideDistance', 'roadKills', 'swimDistance',\n",
        "  #      'vehicleDestroys', 'walkDistance', 'weaponsAcquired', 'winPoints',\n",
        "  #      'totalDistance', 'headshotKillsPerKills', 'useCar']\n",
        "  features = ['boosts', 'damageDealt', 'heals', 'killPlace',\n",
        "       'kills', 'matchDuration', 'maxPlace', 'roadKills',\n",
        "       'vehicleDestroys', 'weaponsAcquired', \n",
        "       'totalDistance', 'headshotKillsPerKills', 'useCar']\n",
        "  \n",
        "  X = df[features]\n",
        "  y = df[target]\n",
        "  return X, y"
      ],
      "metadata": {
        "id": "07gA-YXm3hjg"
      },
      "execution_count": 166,
      "outputs": []
    },
    {
      "cell_type": "code",
      "source": [
        "X_train, y_train = divide_X_y(train)\n",
        "X_test, y_test = divide_X_y(test)\n",
        "X_val, y_val = divide_X_y(val)"
      ],
      "metadata": {
        "id": "MMzpfU-HDC47"
      },
      "execution_count": 167,
      "outputs": []
    },
    {
      "cell_type": "code",
      "source": [
        "print(X_train.shape, y_train.shape)\n",
        "print(X_test.shape, y_test.shape)\n",
        "print(X_val.shape, y_val.shape)"
      ],
      "metadata": {
        "colab": {
          "base_uri": "https://localhost:8080/"
        },
        "id": "8jmHZgouDghp",
        "outputId": "2b3136f7-b59e-4636-a4e9-35ef55401302"
      },
      "execution_count": 168,
      "outputs": [
        {
          "output_type": "stream",
          "name": "stdout",
          "text": [
            "(407259, 13) (407259,)\n",
            "(50183, 13) (50183,)\n",
            "(45278, 13) (45278,)\n"
          ]
        }
      ]
    },
    {
      "cell_type": "markdown",
      "source": [
        "# 3. 모델 학습"
      ],
      "metadata": {
        "id": "8HlawOgbL7zn"
      }
    },
    {
      "cell_type": "code",
      "source": [
        "!pip install category_encoders"
      ],
      "metadata": {
        "id": "i-4ofgM9Ludg",
        "outputId": "09029a3d-fb91-4ede-e449-24d87406c0df",
        "colab": {
          "base_uri": "https://localhost:8080/"
        }
      },
      "execution_count": 56,
      "outputs": [
        {
          "output_type": "stream",
          "name": "stdout",
          "text": [
            "Requirement already satisfied: category_encoders in /usr/local/lib/python3.7/dist-packages (2.4.0)\n",
            "Requirement already satisfied: patsy>=0.5.1 in /usr/local/lib/python3.7/dist-packages (from category_encoders) (0.5.2)\n",
            "Requirement already satisfied: scipy>=1.0.0 in /usr/local/lib/python3.7/dist-packages (from category_encoders) (1.4.1)\n",
            "Requirement already satisfied: pandas>=0.21.1 in /usr/local/lib/python3.7/dist-packages (from category_encoders) (1.3.5)\n",
            "Requirement already satisfied: scikit-learn>=0.20.0 in /usr/local/lib/python3.7/dist-packages (from category_encoders) (1.0.2)\n",
            "Requirement already satisfied: numpy>=1.14.0 in /usr/local/lib/python3.7/dist-packages (from category_encoders) (1.21.5)\n",
            "Requirement already satisfied: statsmodels>=0.9.0 in /usr/local/lib/python3.7/dist-packages (from category_encoders) (0.10.2)\n",
            "Requirement already satisfied: python-dateutil>=2.7.3 in /usr/local/lib/python3.7/dist-packages (from pandas>=0.21.1->category_encoders) (2.8.2)\n",
            "Requirement already satisfied: pytz>=2017.3 in /usr/local/lib/python3.7/dist-packages (from pandas>=0.21.1->category_encoders) (2018.9)\n",
            "Requirement already satisfied: six in /usr/local/lib/python3.7/dist-packages (from patsy>=0.5.1->category_encoders) (1.15.0)\n",
            "Requirement already satisfied: joblib>=0.11 in /usr/local/lib/python3.7/dist-packages (from scikit-learn>=0.20.0->category_encoders) (1.1.0)\n",
            "Requirement already satisfied: threadpoolctl>=2.0.0 in /usr/local/lib/python3.7/dist-packages (from scikit-learn>=0.20.0->category_encoders) (3.1.0)\n"
          ]
        }
      ]
    },
    {
      "cell_type": "code",
      "source": [
        "from category_encoders import OrdinalEncoder\n",
        "from category_encoders import OneHotEncoder\n",
        "from sklearn.impute import SimpleImputer\n",
        "from sklearn.ensemble import RandomForestClassifier\n",
        "from sklearn.tree import DecisionTreeClassifier\n",
        "from sklearn.pipeline import make_pipeline\n",
        "from scipy.stats import randint, uniform\n",
        "from sklearn.model_selection import RandomizedSearchCV\n",
        "from sklearn.metrics import f1_score\n",
        "from sklearn.metrics import plot_confusion_matrix\n",
        "import matplotlib.pyplot as plt\n",
        "from sklearn.metrics import accuracy_score"
      ],
      "metadata": {
        "id": "mx7JG_mJMGz-"
      },
      "execution_count": 172,
      "outputs": []
    },
    {
      "cell_type": "markdown",
      "source": [
        "## 3-1. 기준모델"
      ],
      "metadata": {
        "id": "sNTHz1Kvgo2l"
      }
    },
    {
      "cell_type": "code",
      "source": [
        "pred = np.array([y_train.value_counts().index[0]]*len(y_test))  # 기준 모델"
      ],
      "metadata": {
        "id": "0C3DNmWacGxT",
        "outputId": "03f5cd4b-f4f7-4b54-a20e-729e36ea1d23",
        "colab": {
          "base_uri": "https://localhost:8080/"
        }
      },
      "execution_count": 169,
      "outputs": [
        {
          "output_type": "execute_result",
          "data": {
            "text/plain": [
              "array([0, 0, 0, ..., 0, 0, 0])"
            ]
          },
          "metadata": {},
          "execution_count": 169
        }
      ]
    },
    {
      "cell_type": "code",
      "source": [
        "print('기준모델 정확도:', accuracy_score(y_test, pred))"
      ],
      "metadata": {
        "id": "kOwcZjwNd_rT",
        "outputId": "17dbe7a1-11c4-4783-f492-ba971d389445",
        "colab": {
          "base_uri": "https://localhost:8080/"
        }
      },
      "execution_count": 173,
      "outputs": [
        {
          "output_type": "stream",
          "name": "stdout",
          "text": [
            "f1_score: 0.0\n",
            "0.8982125420959289\n"
          ]
        }
      ]
    },
    {
      "cell_type": "markdown",
      "source": [
        "## 3-2. Decision Tree"
      ],
      "metadata": {
        "id": "LeZBX2sxS-sh"
      }
    },
    {
      "cell_type": "code",
      "source": [
        "pipe_dt = make_pipeline(\n",
        "    OneHotEncoder(use_cat_names=True), \n",
        "    SimpleImputer(), \n",
        "    DecisionTreeClassifier(min_samples_leaf=10, random_state=2)\n",
        ")\n",
        "\n",
        "pipe_dt.fit(X_train, y_train)\n",
        "pred_dt_val = pipe_dt.predict(X_val)\n",
        "\n",
        "print('검증데이터 정확도:', accuracy_score(y_val, pred_dt_val))\n",
        "print('검증데이터 f1_score:', f1_score(y_val, pred_dt_val)) "
      ],
      "metadata": {
        "id": "kG2qKaYMV_oe",
        "outputId": "b44288ab-91de-44af-fdb8-df338be46df8",
        "colab": {
          "base_uri": "https://localhost:8080/"
        }
      },
      "execution_count": 183,
      "outputs": [
        {
          "output_type": "stream",
          "name": "stdout",
          "text": [
            "검증데이터 정확도: 0.9262555766597464\n",
            "검증데이터 f1_score: 0.6323092170465807\n"
          ]
        }
      ]
    },
    {
      "cell_type": "code",
      "source": [
        "fig, ax = plt.subplots()\n",
        "pcm = plot_confusion_matrix(pipe_dt, X_val, y_val, cmap = plt.cm.Blues, ax=ax)\n",
        "plt.title(f'Confusion Matrix, n ={len(y_val)}', fontsize = 15)\n",
        "plt.show()"
      ],
      "metadata": {
        "id": "pFxL6QOebIp-",
        "outputId": "2708b58f-1b0a-471a-e737-a39c498d817f",
        "colab": {
          "base_uri": "https://localhost:8080/",
          "height": 353
        }
      },
      "execution_count": 184,
      "outputs": [
        {
          "output_type": "stream",
          "name": "stderr",
          "text": [
            "/usr/local/lib/python3.7/dist-packages/sklearn/utils/deprecation.py:87: FutureWarning: Function plot_confusion_matrix is deprecated; Function `plot_confusion_matrix` is deprecated in 1.0 and will be removed in 1.2. Use one of the class methods: ConfusionMatrixDisplay.from_predictions or ConfusionMatrixDisplay.from_estimator.\n",
            "  warnings.warn(msg, category=FutureWarning)\n"
          ]
        },
        {
          "output_type": "display_data",
          "data": {
            "text/plain": [
              "<Figure size 432x288 with 2 Axes>"
            ],
            "image/png": "[encoded data removed]"
          },
          "metadata": {
            "needs_background": "light"
          }
        }
      ]
    },
    {
      "cell_type": "markdown",
      "source": [
        "## 3-3. Random Forest"
      ],
      "metadata": {
        "id": "uSUo7fsLTCeq"
      }
    },
    {
      "cell_type": "code",
      "source": [
        "pipe_rf = make_pipeline(\n",
        "    OrdinalEncoder(), \n",
        "    SimpleImputer(), \n",
        "    RandomForestClassifier(random_state=10, n_jobs=-1, oob_score=True)\n",
        ")\n",
        "\n",
        "pipe_rf.fit(X_train, y_train)\n",
        "pred_rf_val = pipe_rf.predict(X_val)\n",
        "\n",
        "print('검증데이터 정확도:', accuracy_score(y_val, pred_rf_val))\n",
        "print('검증데이터 f1_score:', f1_score(y_val, pred_rf_val))"
      ],
      "metadata": {
        "id": "D4fgxJkPRoY2",
        "outputId": "c04c7288-ce7e-47f7-bbae-9ef20da10c40",
        "colab": {
          "base_uri": "https://localhost:8080/"
        }
      },
      "execution_count": 185,
      "outputs": [
        {
          "output_type": "stream",
          "name": "stdout",
          "text": [
            "검증데이터 정확도: 0.9376739255267459\n",
            "검증데이터 f1_score: 0.6797548797094871\n"
          ]
        }
      ]
    },
    {
      "cell_type": "code",
      "source": [
        "fig, ax = plt.subplots()\n",
        "pcm = plot_confusion_matrix(pipe_rf, X_val, y_val, cmap = plt.cm.Blues, ax=ax)\n",
        "plt.title(f'Confusion Matrix, n ={len(y_val)}', fontsize = 15)\n",
        "plt.show()"
      ],
      "metadata": {
        "id": "9mpC7QcobeGj",
        "outputId": "b94af6fb-a796-4bf0-b161-015ddce62fee",
        "colab": {
          "base_uri": "https://localhost:8080/",
          "height": 353
        }
      },
      "execution_count": 181,
      "outputs": [
        {
          "output_type": "stream",
          "name": "stderr",
          "text": [
            "/usr/local/lib/python3.7/dist-packages/sklearn/utils/deprecation.py:87: FutureWarning: Function plot_confusion_matrix is deprecated; Function `plot_confusion_matrix` is deprecated in 1.0 and will be removed in 1.2. Use one of the class methods: ConfusionMatrixDisplay.from_predictions or ConfusionMatrixDisplay.from_estimator.\n",
            "  warnings.warn(msg, category=FutureWarning)\n"
          ]
        },
        {
          "output_type": "display_data",
          "data": {
            "text/plain": [
              "<Figure size 432x288 with 2 Axes>"
            ],
            "image/png": "[encoded data removed]"
          },
          "metadata": {
            "needs_background": "light"
          }
        }
      ]
    },
    {
      "cell_type": "markdown",
      "source": [
        "## 3-4. 모델 선택 및 테스트"
      ],
      "metadata": {
        "id": "6wGY1inWitzu"
      }
    },
    {
      "cell_type": "markdown",
      "source": [
        "* Decision Tree 보다 RandomForest가 f1-score가 더 높아 RandomForest 모델을 선택하였다."
      ],
      "metadata": {
        "id": "JH0F0qiDizFR"
      }
    },
    {
      "cell_type": "code",
      "source": [
        "pred_test = pipe_rf.predict(X_test)\n",
        "\n",
        "print('테스트 데이터 정확도:', accuracy_score(y_test, pred_test))\n",
        "print('테스트 데이터 f1_score:', f1_score(y_test, pred_test))"
      ],
      "metadata": {
        "id": "k0sEpTHtiyK8",
        "outputId": "6ced0846-8027-4a58-9183-5b6678dd1b70",
        "colab": {
          "base_uri": "https://localhost:8080/"
        }
      },
      "execution_count": 186,
      "outputs": [
        {
          "output_type": "stream",
          "name": "stdout",
          "text": [
            "테스트 데이터 정확도: 0.9377677699619393\n",
            "테스트 데이터 f1_score: 0.6676598914547195\n"
          ]
        }
      ]
    },
    {
      "cell_type": "code",
      "source": [
        "fig, ax = plt.subplots()\n",
        "pcm = plot_confusion_matrix(pipe_rf, X_test, y_test, cmap = plt.cm.Blues, ax=ax)\n",
        "plt.title(f'Confusion Matrix, n ={len(y_val)}', fontsize = 15)\n",
        "plt.show()"
      ],
      "metadata": {
        "id": "45YDOGrikC2S",
        "outputId": "1edeba3b-faf1-4700-84df-b39eb75273c0",
        "colab": {
          "base_uri": "https://localhost:8080/",
          "height": 353
        }
      },
      "execution_count": 187,
      "outputs": [
        {
          "output_type": "stream",
          "name": "stderr",
          "text": [
            "/usr/local/lib/python3.7/dist-packages/sklearn/utils/deprecation.py:87: FutureWarning: Function plot_confusion_matrix is deprecated; Function `plot_confusion_matrix` is deprecated in 1.0 and will be removed in 1.2. Use one of the class methods: ConfusionMatrixDisplay.from_predictions or ConfusionMatrixDisplay.from_estimator.\n",
            "  warnings.warn(msg, category=FutureWarning)\n"
          ]
        },
        {
          "output_type": "display_data",
          "data": {
            "text/plain": [
              "<Figure size 432x288 with 2 Axes>"
            ],
            "image/png": "[encoded data removed]"
          },
          "metadata": {
            "needs_background": "light"
          }
        }
      ]
    },
    {
      "cell_type": "markdown",
      "source": [
        "# 4. 모델 해석"
      ],
      "metadata": {
        "id": "flQklIv7h_O3"
      }
    },
    {
      "cell_type": "code",
      "source": [
        ""
      ],
      "metadata": {
        "id": "kavEDGxeh15W"
      },
      "execution_count": null,
      "outputs": []
    }
  ]
}