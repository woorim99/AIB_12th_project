{
  "nbformat": 4,
  "nbformat_minor": 0,
  "metadata": {
    "colab": {
      "name": "Section2_AI_12_이우림.ipynb",
      "provenance": [],
      "authorship_tag": "ABX9TyPPifPpKZlpmieIqnBWQZfR",
      "include_colab_link": true
    },
    "kernelspec": {
      "name": "python3",
      "display_name": "Python 3"
    },
    "language_info": {
      "name": "python"
    }
  },
  "cells": [
    {
      "cell_type": "markdown",
      "metadata": {
        "id": "view-in-github",
        "colab_type": "text"
      },
      "source": [
        "<a href=\"https://colab.research.google.com/github/woorim99/AIB_12th_project/blob/main/Section%202/Section2_AI_12_%EC%9D%B4%EC%9A%B0%EB%A6%BC.ipynb\" target=\"_parent\"><img src=\"https://colab.research.google.com/assets/colab-badge.svg\" alt=\"Open In Colab\"/></a>"
      ]
    },
    {
      "cell_type": "code",
      "execution_count": null,
      "metadata": {
        "id": "ZD974egZBdPy"
      },
      "outputs": [],
      "source": [
        ""
      ]
    }
  ]
}