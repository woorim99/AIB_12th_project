{
  "cells": [
    {
      "cell_type": "markdown",
      "metadata": {},
      "source": [
        "# 1. DATABASE에서 데이터 불러오기"
      ]
    },
    {
      "cell_type": "code",
      "execution_count": 6,
      "metadata": {
        "id": "TQJFVpPlvYVb"
      },
      "outputs": [
        {
          "data": {
            "text/html": [
              "<div>\n",
              "<style scoped>\n",
              "    .dataframe tbody tr th:only-of-type {\n",
              "        vertical-align: middle;\n",
              "    }\n",
              "\n",
              "    .dataframe tbody tr th {\n",
              "        vertical-align: top;\n",
              "    }\n",
              "\n",
              "    .dataframe thead th {\n",
              "        text-align: right;\n",
              "    }\n",
              "</style>\n",
              "<table border=\"1\" class=\"dataframe\">\n",
              "  <thead>\n",
              "    <tr style=\"text-align: right;\">\n",
              "      <th></th>\n",
              "      <th>kills</th>\n",
              "      <th>damageDealt</th>\n",
              "      <th>totalDistance</th>\n",
              "      <th>winPlace</th>\n",
              "    </tr>\n",
              "  </thead>\n",
              "  <tbody>\n",
              "    <tr>\n",
              "      <th>0</th>\n",
              "      <td>0</td>\n",
              "      <td>5.186188</td>\n",
              "      <td>750.73900</td>\n",
              "      <td>22</td>\n",
              "    </tr>\n",
              "    <tr>\n",
              "      <th>1</th>\n",
              "      <td>0</td>\n",
              "      <td>196.747100</td>\n",
              "      <td>6731.80860</td>\n",
              "      <td>9</td>\n",
              "    </tr>\n",
              "    <tr>\n",
              "      <th>2</th>\n",
              "      <td>0</td>\n",
              "      <td>0.000000</td>\n",
              "      <td>180.19120</td>\n",
              "      <td>25</td>\n",
              "    </tr>\n",
              "    <tr>\n",
              "      <th>3</th>\n",
              "      <td>1</td>\n",
              "      <td>83.184010</td>\n",
              "      <td>9439.58030</td>\n",
              "      <td>13</td>\n",
              "    </tr>\n",
              "    <tr>\n",
              "      <th>4</th>\n",
              "      <td>0</td>\n",
              "      <td>0.000000</td>\n",
              "      <td>1674.16920</td>\n",
              "      <td>18</td>\n",
              "    </tr>\n",
              "    <tr>\n",
              "      <th>...</th>\n",
              "      <td>...</td>\n",
              "      <td>...</td>\n",
              "      <td>...</td>\n",
              "      <td>...</td>\n",
              "    </tr>\n",
              "    <tr>\n",
              "      <th>34046</th>\n",
              "      <td>0</td>\n",
              "      <td>52.170000</td>\n",
              "      <td>538.11450</td>\n",
              "      <td>16</td>\n",
              "    </tr>\n",
              "    <tr>\n",
              "      <th>34047</th>\n",
              "      <td>0</td>\n",
              "      <td>24.600000</td>\n",
              "      <td>217.13995</td>\n",
              "      <td>9</td>\n",
              "    </tr>\n",
              "    <tr>\n",
              "      <th>34048</th>\n",
              "      <td>0</td>\n",
              "      <td>169.999980</td>\n",
              "      <td>3513.84570</td>\n",
              "      <td>12</td>\n",
              "    </tr>\n",
              "    <tr>\n",
              "      <th>34049</th>\n",
              "      <td>0</td>\n",
              "      <td>0.000000</td>\n",
              "      <td>1456.48965</td>\n",
              "      <td>14</td>\n",
              "    </tr>\n",
              "    <tr>\n",
              "      <th>34050</th>\n",
              "      <td>0</td>\n",
              "      <td>0.000000</td>\n",
              "      <td>187.46089</td>\n",
              "      <td>15</td>\n",
              "    </tr>\n",
              "  </tbody>\n",
              "</table>\n",
              "<p>34051 rows × 4 columns</p>\n",
              "</div>"
            ],
            "text/plain": [
              "       kills  damageDealt  totalDistance  winPlace\n",
              "0          0     5.186188      750.73900        22\n",
              "1          0   196.747100     6731.80860         9\n",
              "2          0     0.000000      180.19120        25\n",
              "3          1    83.184010     9439.58030        13\n",
              "4          0     0.000000     1674.16920        18\n",
              "...      ...          ...            ...       ...\n",
              "34046      0    52.170000      538.11450        16\n",
              "34047      0    24.600000      217.13995         9\n",
              "34048      0   169.999980     3513.84570        12\n",
              "34049      0     0.000000     1456.48965        14\n",
              "34050      0     0.000000      187.46089        15\n",
              "\n",
              "[34051 rows x 4 columns]"
            ]
          },
          "execution_count": 6,
          "metadata": {},
          "output_type": "execute_result"
        }
      ],
      "source": [
        "import sqlite3\n",
        "import pandas as pd\n",
        "  \n",
        "    \n",
        "con = sqlite3.connect(\"data.db\")\n",
        "cur = con.cursor()\n",
        "\n",
        "query = cur.execute(\"SELECT * From pubg_stat\")\n",
        "\n",
        "cols = [column[0] for column in query.description]\n",
        "\n",
        "df = pd.DataFrame.from_records(data=query.fetchall(), columns=cols)\n",
        "\n",
        "con.close()\n",
        "\n",
        "df = df.drop(['id'], axis=1)\n",
        "\n",
        "df"
      ]
    },
    {
      "cell_type": "markdown",
      "metadata": {},
      "source": [
        "# 2. 전처리"
      ]
    },
    {
      "cell_type": "code",
      "execution_count": 7,
      "metadata": {},
      "outputs": [
        {
          "data": {
            "text/html": [
              "<div>\n",
              "<style scoped>\n",
              "    .dataframe tbody tr th:only-of-type {\n",
              "        vertical-align: middle;\n",
              "    }\n",
              "\n",
              "    .dataframe tbody tr th {\n",
              "        vertical-align: top;\n",
              "    }\n",
              "\n",
              "    .dataframe thead th {\n",
              "        text-align: right;\n",
              "    }\n",
              "</style>\n",
              "<table border=\"1\" class=\"dataframe\">\n",
              "  <thead>\n",
              "    <tr style=\"text-align: right;\">\n",
              "      <th></th>\n",
              "      <th>kills</th>\n",
              "      <th>damageDealt</th>\n",
              "      <th>totalDistance</th>\n",
              "      <th>winPlace</th>\n",
              "    </tr>\n",
              "  </thead>\n",
              "  <tbody>\n",
              "    <tr>\n",
              "      <th>0</th>\n",
              "      <td>0</td>\n",
              "      <td>5.186188</td>\n",
              "      <td>750.73900</td>\n",
              "      <td>0</td>\n",
              "    </tr>\n",
              "    <tr>\n",
              "      <th>1</th>\n",
              "      <td>0</td>\n",
              "      <td>196.747100</td>\n",
              "      <td>6731.80860</td>\n",
              "      <td>1</td>\n",
              "    </tr>\n",
              "    <tr>\n",
              "      <th>2</th>\n",
              "      <td>0</td>\n",
              "      <td>0.000000</td>\n",
              "      <td>180.19120</td>\n",
              "      <td>0</td>\n",
              "    </tr>\n",
              "    <tr>\n",
              "      <th>3</th>\n",
              "      <td>1</td>\n",
              "      <td>83.184010</td>\n",
              "      <td>9439.58030</td>\n",
              "      <td>0</td>\n",
              "    </tr>\n",
              "    <tr>\n",
              "      <th>4</th>\n",
              "      <td>0</td>\n",
              "      <td>0.000000</td>\n",
              "      <td>1674.16920</td>\n",
              "      <td>0</td>\n",
              "    </tr>\n",
              "    <tr>\n",
              "      <th>...</th>\n",
              "      <td>...</td>\n",
              "      <td>...</td>\n",
              "      <td>...</td>\n",
              "      <td>...</td>\n",
              "    </tr>\n",
              "    <tr>\n",
              "      <th>34046</th>\n",
              "      <td>0</td>\n",
              "      <td>52.170000</td>\n",
              "      <td>538.11450</td>\n",
              "      <td>0</td>\n",
              "    </tr>\n",
              "    <tr>\n",
              "      <th>34047</th>\n",
              "      <td>0</td>\n",
              "      <td>24.600000</td>\n",
              "      <td>217.13995</td>\n",
              "      <td>1</td>\n",
              "    </tr>\n",
              "    <tr>\n",
              "      <th>34048</th>\n",
              "      <td>0</td>\n",
              "      <td>169.999980</td>\n",
              "      <td>3513.84570</td>\n",
              "      <td>0</td>\n",
              "    </tr>\n",
              "    <tr>\n",
              "      <th>34049</th>\n",
              "      <td>0</td>\n",
              "      <td>0.000000</td>\n",
              "      <td>1456.48965</td>\n",
              "      <td>0</td>\n",
              "    </tr>\n",
              "    <tr>\n",
              "      <th>34050</th>\n",
              "      <td>0</td>\n",
              "      <td>0.000000</td>\n",
              "      <td>187.46089</td>\n",
              "      <td>0</td>\n",
              "    </tr>\n",
              "  </tbody>\n",
              "</table>\n",
              "<p>34051 rows × 4 columns</p>\n",
              "</div>"
            ],
            "text/plain": [
              "       kills  damageDealt  totalDistance  winPlace\n",
              "0          0     5.186188      750.73900         0\n",
              "1          0   196.747100     6731.80860         1\n",
              "2          0     0.000000      180.19120         0\n",
              "3          1    83.184010     9439.58030         0\n",
              "4          0     0.000000     1674.16920         0\n",
              "...      ...          ...            ...       ...\n",
              "34046      0    52.170000      538.11450         0\n",
              "34047      0    24.600000      217.13995         1\n",
              "34048      0   169.999980     3513.84570         0\n",
              "34049      0     0.000000     1456.48965         0\n",
              "34050      0     0.000000      187.46089         0\n",
              "\n",
              "[34051 rows x 4 columns]"
            ]
          },
          "execution_count": 7,
          "metadata": {},
          "output_type": "execute_result"
        }
      ],
      "source": [
        "import numpy as np\n",
        "df['winPlace'] = np.where(df['winPlace'] <= 10, 1, 0)\n",
        "\n",
        "df"
      ]
    },
    {
      "cell_type": "markdown",
      "metadata": {},
      "source": [
        "# 3. train/test 데이터 분리"
      ]
    },
    {
      "cell_type": "code",
      "execution_count": 10,
      "metadata": {},
      "outputs": [
        {
          "name": "stdout",
          "output_type": "stream",
          "text": [
            "(27240, 4) (6811, 4)\n"
          ]
        }
      ],
      "source": [
        "from sklearn.model_selection import train_test_split\n",
        "\n",
        "train, test = train_test_split(df, test_size=0.2, random_state=1)\n",
        "\n",
        "print(train.shape, test.shape)"
      ]
    },
    {
      "cell_type": "code",
      "execution_count": 13,
      "metadata": {},
      "outputs": [],
      "source": [
        "features = ['kills', 'damageDealt', 'totalDistance']\n",
        "label = 'winPlace'\n",
        "\n",
        "X_train = train[features]\n",
        "X_test = test[features]\n",
        "\n",
        "y_train = train[label]\n",
        "y_test = test[label]"
      ]
    },
    {
      "cell_type": "markdown",
      "metadata": {},
      "source": [
        "# 4. 모델 학습"
      ]
    },
    {
      "cell_type": "code",
      "execution_count": 16,
      "metadata": {},
      "outputs": [
        {
          "name": "stdout",
          "output_type": "stream",
          "text": [
            "f1_score: 0.5575282453308739\n"
          ]
        }
      ],
      "source": [
        "from category_encoders import OrdinalEncoder\n",
        "from sklearn.impute import SimpleImputer\n",
        "from sklearn.ensemble import RandomForestClassifier\n",
        "from sklearn.pipeline import make_pipeline\n",
        "from sklearn.metrics import f1_score\n",
        "\n",
        "pipe = make_pipeline(\n",
        "    OrdinalEncoder(), \n",
        "    SimpleImputer(), \n",
        "    RandomForestClassifier(random_state=10, n_jobs=-1, oob_score=True)\n",
        ")\n",
        "\n",
        "model = pipe.fit(X_train, y_train)\n",
        "pred_test = pipe.predict(X_test)\n",
        "print('f1_score:', f1_score(y_test, pred_test))"
      ]
    },
    {
      "cell_type": "markdown",
      "metadata": {},
      "source": [
        "# 5. pickle 파일 변환"
      ]
    },
    {
      "cell_type": "code",
      "execution_count": 18,
      "metadata": {},
      "outputs": [],
      "source": [
        "import pickle\n",
        "\n",
        "pickle.dump(model, open('pubg.pkl', 'wb'))"
      ]
    }
  ],
  "metadata": {
    "colab": {
      "name": "save_pickle.ipynb",
      "provenance": []
    },
    "kernelspec": {
      "display_name": "Python 3",
      "name": "python3"
    },
    "language_info": {
      "codemirror_mode": {
        "name": "ipython",
        "version": 3
      },
      "file_extension": ".py",
      "mimetype": "text/x-python",
      "name": "python",
      "nbconvert_exporter": "python",
      "pygments_lexer": "ipython3",
      "version": "3.8.13"
    }
  },
  "nbformat": 4,
  "nbformat_minor": 0
}
